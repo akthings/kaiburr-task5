{
 "cells": [
  {
   "cell_type": "code",
   "execution_count": 11,
   "id": "221c2c05",
   "metadata": {},
   "outputs": [
    {
     "name": "stdout",
     "output_type": "stream",
     "text": [
      "Data split complete. Training samples: 412976\n"
     ]
    }
   ],
   "source": [
    "import pandas as pd\n",
    "from sklearn.model_selection import train_test_split\n",
    "from sklearn.preprocessing import LabelEncoder\n",
    "\n",
    "# 1. Load Data (Assumes the CSV is in the local directory)\n",
    "df = pd.read_csv('consumer_complaints.csv')\n",
    "\n",
    "# 2. Filter for relevant categories and columns\n",
    "categories = ['Credit reporting, repair, or other', 'Debt collection', 'Consumer Loan', 'Mortgage']\n",
    "df_filtered = df[df['Product'].isin(categories)].copy()\n",
    "\n",
    "# Drop rows with missing consumer narrative (the feature)\n",
    "df_filtered.dropna(subset=['Consumer complaint narrative'], inplace=True)\n",
    "\n",
    "# 3. Target Encoding\n",
    "# Map the text categories to numerical labels (0, 1, 2, 3)\n",
    "label_encoder = LabelEncoder()\n",
    "df_filtered['Category_ID'] = label_encoder.fit_transform(df_filtered['Product'])\n",
    "\n",
    "# Select Features (X) and Target (y)\n",
    "X = df_filtered['Consumer complaint narrative']\n",
    "y = df_filtered['Category_ID']\n",
    "\n",
    "# Split data into training and testing sets (80/20 split)\n",
    "X_train, X_test, y_train, y_test = train_test_split(X, y, test_size=0.2, random_state=42, stratify=y)\n",
    "\n",
    "print(\"Data split complete. Training samples:\", len(X_train))"
   ]
  },
  {
   "cell_type": "code",
   "execution_count": 19,
   "id": "279ff1e1-281f-42eb-9457-6f5e0ffdf8f0",
   "metadata": {},
   "outputs": [
    {
     "name": "stdout",
     "output_type": "stream",
     "text": [
      "Text preprocessing complete.\n"
     ]
    }
   ],
   "source": [
    "import re\n",
    "from nltk.corpus import stopwords\n",
    "from nltk.tokenize import word_tokenize\n",
    "from sklearn.feature_extraction.text import TfidfVectorizer\n",
    "\n",
    "# Ensure NLTK resources are downloaded (run once)\n",
    "import nltk\n",
    "try:\n",
    "    nltk.data.find('corpora/stopwords')\n",
    "except nltk.downloader.DownloadError:\n",
    "    nltk.download('punkt')\n",
    "    nltk.download('stopwords')\n",
    "\n",
    "stop_words = set(stopwords.words('english'))\n",
    "\n",
    "def preprocess_text(text):\n",
    "    # Remove special characters and numbers\n",
    "    text = re.sub(r'[^a-zA-Z\\s]', '', str(text).lower())\n",
    "    # Tokenize and remove stopwords\n",
    "    tokens = word_tokenize(text)\n",
    "    tokens = [word for word in tokens if word not in stop_words]\n",
    "    return ' '.join(tokens)\n",
    "\n",
    "# Apply preprocessing to the training and testing sets\n",
    "X_train_processed = X_train.apply(preprocess_text)\n",
    "X_test_processed = X_test.apply(preprocess_text)\n",
    "\n",
    "print(\"Text preprocessing complete.\")"
   ]
  },
  {
   "cell_type": "code",
   "execution_count": 21,
   "id": "6e6a5b88-305f-4354-8f06-431e2bdc1f4f",
   "metadata": {},
   "outputs": [
    {
     "name": "stdout",
     "output_type": "stream",
     "text": [
      "Model training complete.\n"
     ]
    }
   ],
   "source": [
    "from sklearn.linear_model import LogisticRegression\n",
    "from sklearn.svm import LinearSVC\n",
    "from sklearn.pipeline import Pipeline\n",
    "\n",
    "# 1. Define the Pipeline (Feature Engineering + Classifier)\n",
    "# Logistic Regression is a good baseline for multi-class text classification\n",
    "text_classifier = Pipeline([\n",
    "    # Feature Engineering\n",
    "    ('tfidf', TfidfVectorizer(ngram_range=(1, 2), max_df=0.8, min_df=5)),\n",
    "    # Model Selection\n",
    "    ('classifier', LogisticRegression(solver='liblinear', multi_class='ovr', random_state=42))\n",
    "])\n",
    "\n",
    "# 2. Train the model\n",
    "text_classifier.fit(X_train_processed, y_train)\n",
    "\n",
    "print(\"Model training complete.\")"
   ]
  },
  {
   "cell_type": "code",
   "execution_count": null,
   "id": "0443d743-4f12-40f7-9e50-bfa6efeb96b1",
   "metadata": {},
   "outputs": [],
   "source": []
  },
  {
   "cell_type": "code",
   "execution_count": null,
   "id": "62b972ef-76c2-4b2b-b236-b0d564ed5f80",
   "metadata": {},
   "outputs": [],
   "source": [
    "from sklearn.metrics import classification_report, confusion_matrix\n",
    "\n",
    "# Predict on the test set\n",
    "y_pred = text_classifier.predict(X_test_processed)\n",
    "\n",
    "# Print Evaluation Metrics\n",
    "print(\"--- Classification Report ---\")\n",
    "print(classification_report(y_test, y_pred, target_names=label_encoder.classes_))\n",
    "\n",
    "# Print Confusion Matrix (Optional, but good for visualization)\n",
    "print(\"--- Confusion Matrix ---\")\n",
    "print(confusion_matrix(y_test, y_pred))"
   ]
  },
  {
   "cell_type": "code",
   "execution_count": 23,
   "id": "f19c59e7-2a44-41a1-ab72-a0631d465393",
   "metadata": {},
   "outputs": [
    {
     "name": "stdout",
     "output_type": "stream",
     "text": [
      "\n",
      "--- Model Prediction ---\n",
      "Input: I have been fighting with this bank for months about an escrow issue related to my mortgage payment.\n",
      "Predicted Category ID: 2\n",
      "Predicted Category: Mortgage\n"
     ]
    }
   ],
   "source": [
    "# New sample complaint for testing\n",
    "sample_complaint = [\n",
    "    \"I have been fighting with this bank for months about an escrow issue related to my mortgage payment.\"\n",
    "]\n",
    "\n",
    "# Preprocess the sample and predict\n",
    "sample_processed = pd.Series(sample_complaint).apply(preprocess_text)\n",
    "prediction_id = text_classifier.predict(sample_processed)[0]\n",
    "prediction_label = label_encoder.inverse_transform([prediction_id])[0]\n",
    "\n",
    "print(\"\\n--- Model Prediction ---\")\n",
    "print(\"Input:\", sample_complaint[0])\n",
    "print(\"Predicted Category ID:\", prediction_id)\n",
    "print(\"Predicted Category:\", prediction_label)"
   ]
  },
  {
   "cell_type": "code",
   "execution_count": null,
   "id": "335fee45-d55c-44bd-ba09-8e5baec665af",
   "metadata": {},
   "outputs": [],
   "source": []
  }
 ],
 "metadata": {
  "kernelspec": {
   "display_name": "Python 3 (ipykernel)",
   "language": "python",
   "name": "python3"
  },
  "language_info": {
   "codemirror_mode": {
    "name": "ipython",
    "version": 3
   },
   "file_extension": ".py",
   "mimetype": "text/x-python",
   "name": "python",
   "nbconvert_exporter": "python",
   "pygments_lexer": "ipython3",
   "version": "3.12.4"
  }
 },
 "nbformat": 4,
 "nbformat_minor": 5
}
